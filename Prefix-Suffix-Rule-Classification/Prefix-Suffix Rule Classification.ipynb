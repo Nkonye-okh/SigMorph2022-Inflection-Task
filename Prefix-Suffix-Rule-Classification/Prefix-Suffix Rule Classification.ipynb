{
 "cells": [
  {
   "cell_type": "markdown",
   "id": "10745570",
   "metadata": {},
   "source": [
    "# Morphological Inflection by Prefix-Suffix-Rule prediction"
   ]
  },
  {
   "cell_type": "markdown",
   "id": "2d1d6c4b",
   "metadata": {},
   "source": [
    "This approach to morphological inflection generation works in the following way: For given lemma and morphological tags, predict the form's prefix to be substituted by another prefix and the form's suffix to be substituted by another suffix.\n",
    "\n",
    "We extract allowed substitution rules from the training data."
   ]
  },
  {
   "cell_type": "markdown",
   "id": "d524b2e9",
   "metadata": {},
   "source": [
    "## 1. Prefix-Suffix rule extraction"
   ]
  },
  {
   "cell_type": "code",
   "execution_count": 1,
   "id": "52fb06c3",
   "metadata": {},
   "outputs": [],
   "source": [
    "import re\n",
    "import numpy as np"
   ]
  },
  {
   "cell_type": "markdown",
   "id": "7ad4eb52",
   "metadata": {},
   "source": [
    "Given a pair (form, lemma), we extract the according prefix and suffix substitution as follows: First, align the form and the lemma by their longest common infix. Then, treat the parts of lemma and form preceding the aligned infix as prefixes to substitute and the parts following the aligned infix as suffixes to substitute."
   ]
  },
  {
   "cell_type": "code",
   "execution_count": 2,
   "id": "f7b3e3ee",
   "metadata": {},
   "outputs": [],
   "source": [
    "def longest_common_prefix(s1: str, s2: str):\n",
    "    \"\"\"Returns the length of longest common prefix of strings `s1` and `s2\"\"\"\n",
    "    common_prefix_length = 0\n",
    "    \n",
    "    # Count how many initial letters are the same for both strings\n",
    "    for c1, c2 in zip(s1, s2):\n",
    "        if c1 == c2:\n",
    "            common_prefix_length += 1\n",
    "        # Stop counting at first different letter\n",
    "        else:\n",
    "            break\n",
    "    \n",
    "    return common_prefix_length"
   ]
  },
  {
   "cell_type": "code",
   "execution_count": 3,
   "id": "96c34e62",
   "metadata": {},
   "outputs": [],
   "source": [
    "def align_by_longest_common_infix(w1:str, w2:str):\n",
    "    \"\"\"\n",
    "    Align strings w1 and w2 by their longest common infix.\n",
    "    Return starting indices of longest common infix in w1 and w2 and length of the longest common infix.\n",
    "    \"\"\"\n",
    "    # Initialise scoring matrix\n",
    "    cost_matrix = np.zeros((len(w1), len(w2)), dtype=np.int16)\n",
    "    \n",
    "    # Populate scoring matrix for indices:\n",
    "    # For each combination of possible starting indices in w1 and w2, we calculate the\n",
    "    # longest common prefix length of substrings starting at the respective indices\n",
    "    for i in range(len(w1)):\n",
    "        for j in range(len(w2)):\n",
    "            cost_matrix[i, j] = longest_common_prefix(w1[i:], w2[j:])\n",
    "    \n",
    "    # Find & return indices\n",
    "    best_indices = np.argmax(cost_matrix)\n",
    "    best_i, best_j = np.unravel_index(best_indices, cost_matrix.shape)\n",
    "    longest_infix_length = cost_matrix[best_i, best_j].item()\n",
    "    \n",
    "    return best_i, best_j, longest_infix_length"
   ]
  },
  {
   "cell_type": "code",
   "execution_count": 4,
   "id": "a44cbcba",
   "metadata": {},
   "outputs": [],
   "source": [
    "def get_rule(lemma: str, form: str):\n",
    "    \"\"\"Given lemma and form, find suffix and prefix to substitute\"\"\"\n",
    "    # Align by longest common infix\n",
    "    i, j, l = align_by_longest_common_infix(lemma, form)\n",
    "    # Extract suffixes and prefixes\n",
    "    prefix_lemma, suffix_lemma = lemma[:i], lemma[i+l:]\n",
    "    prefix_form, suffix_form = form[:j], form[j+l:]\n",
    "    \n",
    "    # Return rule\n",
    "    return ((prefix_lemma, prefix_form), (suffix_lemma, suffix_form))"
   ]
  },
  {
   "cell_type": "markdown",
   "id": "d14a7afc",
   "metadata": {},
   "source": [
    "## 2. Data exploration\n",
    "\n",
    "We need to get a feeling for how many rules are generated for each language. This can indicate whether this approach is useful in general. Languages where morphological inflection is not based on prefix or suffix manipulation will likely generate a very high number of rules that don't generalise well."
   ]
  },
  {
   "cell_type": "code",
   "execution_count": 5,
   "id": "b3bd9ed0",
   "metadata": {},
   "outputs": [],
   "source": [
    "import os\n",
    "import pandas as pd\n",
    "import matplotlib.pyplot as plt\n",
    "\n",
    "from tqdm.auto import tqdm, trange"
   ]
  },
  {
   "cell_type": "markdown",
   "id": "b0e5cf88",
   "metadata": {},
   "source": [
    "First, we generate a list of all languages in the data:"
   ]
  },
  {
   "cell_type": "code",
   "execution_count": 6,
   "id": "cfcb0a33",
   "metadata": {},
   "outputs": [],
   "source": [
    "language_codes = set()\n",
    "\n",
    "for filename in os.listdir(\"part1/development_languages/\"):\n",
    "    code, extension = filename.split('.')\n",
    "    language_codes.add(code)\n",
    "\n",
    "language_codes = list(sorted(language_codes))"
   ]
  },
  {
   "cell_type": "markdown",
   "id": "b170207a",
   "metadata": {},
   "source": [
    "Then, we generate the rule dataset from the train portion of all languages:"
   ]
  },
  {
   "cell_type": "code",
   "execution_count": 7,
   "id": "436aac8a",
   "metadata": {},
   "outputs": [
    {
     "data": {
      "application/vnd.jupyter.widget-view+json": {
       "model_id": "adbe8571429f4751b9f9aa02ffc8ce5f",
       "version_major": 2,
       "version_minor": 0
      },
      "text/plain": [
       "  0%|          | 0/35 [00:00<?, ?it/s]"
      ]
     },
     "metadata": {},
     "output_type": "display_data"
    }
   ],
   "source": [
    "rule_statistics = []\n",
    "# Save the rules for training (later)\n",
    "training_data = dict()\n",
    "\n",
    "for language_code in tqdm(language_codes):\n",
    "    # Read training data\n",
    "    path = f\"part1/development_languages/{language_code}.train\"\n",
    "    data = pd.read_csv(path, sep='\\t', names=[\"lemma\", \"form\", \"tag\"])\n",
    "    \n",
    "    # Extract lemmas, forms, and tags\n",
    "    lemmas = data[\"lemma\"].tolist()\n",
    "    forms = data[\"form\"].tolist()\n",
    "    tags = data[\"tag\"].tolist()\n",
    "    \n",
    "    # Generate all rules\n",
    "    language_dataset = []\n",
    "    language_rules = set()\n",
    "    # Iterate over all lemma, form, tag triples\n",
    "    for lemma, form, tag in zip(lemmas, forms, tags):\n",
    "        # Generate rule\n",
    "        lemma, form, tag = str(lemma), str(form), str(tag)\n",
    "        rule = get_rule(lemma, form)\n",
    "        # Save data & rule\n",
    "        language_dataset.append((lemma, tag, form, rule))\n",
    "        language_rules.add(rule)\n",
    "        \n",
    "    training_data[language_code] = language_dataset\n",
    "    \n",
    "    num_rules = len(language_rules)\n",
    "    num_words_in_language = len(language_dataset)\n",
    "    relative_num_rules = 100 * (num_rules / num_words_in_language)\n",
    "    rule_statistics.append([language_code, num_rules, num_words_in_language, relative_num_rules])\n",
    "\n",
    "rule_statistics = pd.DataFrame(rule_statistics, columns=[\"Language\", \"#Rules\", \"#Words\", \"%Rules\"])"
   ]
  },
  {
   "cell_type": "markdown",
   "id": "299b1d41",
   "metadata": {},
   "source": [
    "Here, we show the absolute numbers of generated rules per language:"
   ]
  },
  {
   "cell_type": "code",
   "execution_count": 8,
   "id": "ef1ac5e5",
   "metadata": {},
   "outputs": [
    {
     "data": {
      "image/png": "[encoded data removed]",
      "text/plain": [
       "<Figure size 1152x288 with 1 Axes>"
      ]
     },
     "metadata": {
      "needs_background": "light"
     },
     "output_type": "display_data"
    }
   ],
   "source": [
    "rule_statistics.sort_values('#Rules', inplace=True, ascending=False)\n",
    "\n",
    "num_rules = rule_statistics['#Rules'].astype(np.int64)\n",
    "languages = rule_statistics['Language']\n",
    "\n",
    "plt.figure(figsize=(16, 4))\n",
    "plt.bar(languages, num_rules)\n",
    "plt.show()"
   ]
  },
  {
   "cell_type": "markdown",
   "id": "4b83ac1f",
   "metadata": {},
   "source": [
    "We also show the relative numbers of generated rules per language:"
   ]
  },
  {
   "cell_type": "code",
   "execution_count": 9,
   "id": "2a933dd2",
   "metadata": {},
   "outputs": [
    {
     "data": {
      "image/png": "[encoded data removed]",
      "text/plain": [
       "<Figure size 1152x288 with 1 Axes>"
      ]
     },
     "metadata": {
      "needs_background": "light"
     },
     "output_type": "display_data"
    }
   ],
   "source": [
    "num_rules = rule_statistics['%Rules'].astype(np.int64)\n",
    "languages = rule_statistics['Language']\n",
    "\n",
    "plt.figure(figsize=(16, 4))\n",
    "plt.bar(languages, num_rules)\n",
    "plt.show()"
   ]
  },
  {
   "cell_type": "markdown",
   "id": "3836b7f5",
   "metadata": {},
   "source": [
    "We can see that the absolute number of generated rules does not correlate much with the relative number of generated rules.\n",
    "\n",
    "Finally, we also show the distribution of relative numbers of generated rules:"
   ]
  },
  {
   "cell_type": "code",
   "execution_count": 10,
   "id": "00f8a03a",
   "metadata": {},
   "outputs": [
    {
     "data": {
      "image/png": "[encoded data removed]",
      "text/plain": [
       "<Figure size 432x288 with 1 Axes>"
      ]
     },
     "metadata": {
      "needs_background": "light"
     },
     "output_type": "display_data"
    }
   ],
   "source": [
    "rule_ratios = rule_statistics[\"%Rules\"].to_numpy()\n",
    "\n",
    "plt.hist(rule_ratios, bins=20, density=True)\n",
    "plt.show()"
   ]
  },
  {
   "cell_type": "markdown",
   "id": "9064c268",
   "metadata": {},
   "source": [
    "We can see that for most languages, the number of generated rules is less than 20% of the number of forms in the data. However, there is still a reasonable number where the ration is higher, so we expect a number of languages where our approach fails."
   ]
  },
  {
   "cell_type": "markdown",
   "id": "c6f4da31",
   "metadata": {},
   "source": [
    "## 3. Defining a rule classification model"
   ]
  },
  {
   "cell_type": "markdown",
   "id": "108ae8c8",
   "metadata": {},
   "source": [
    "Having generated the possible prefix-suffix-rules for a language, we can approach morphological inflection as a multiclass classification problem: Given a lemma and a sequence of morphological tags, predict the rule to apply to the lemma in order to generate the correct form.\n",
    "\n",
    "For this we can train a classifier in a supervised fashion. Our model works as follows: First, we encode tags and lemma indendently. The lemma is encoded by two layers of character convolutions with GELU nonlinearities followed by feature-wise max pooling to arrive at a single vector representation for the lemma. The tags are encoded by a bag-of-embeddings model (summing the embeddings of all tags) followed by a single nonlinear projection. Finally, the lemma encoding and the tag sequence encoding are added. We predict the rule passing the added lemma and tag sequence encoding through a MLP classifier."
   ]
  },
  {
   "cell_type": "code",
   "execution_count": 11,
   "id": "bbc2a29b",
   "metadata": {},
   "outputs": [],
   "source": [
    "import torch\n",
    "import torch.nn as nn\n",
    "import torch.nn.functional as F"
   ]
  },
  {
   "cell_type": "code",
   "execution_count": 12,
   "id": "5bbcd987",
   "metadata": {},
   "outputs": [],
   "source": [
    "class RuleClassifierInflection(nn.Module):\n",
    "    def __init__(self, num_chars: int, num_tags: int, num_rules: int, embedding_size: int,\n",
    "                 hidden_size: int, ngram: int = 3):\n",
    "        super().__init__()\n",
    "        self.hidden_size = hidden_size\n",
    "        \n",
    "        # Initialise embeddings of characters & tags\n",
    "        self.char_embedding = nn.Embedding(num_chars, embedding_size, padding_idx=0)\n",
    "        self.tag_embedding = nn.EmbeddingBag(num_tags, embedding_size, padding_idx=0, mode='sum')\n",
    "        \n",
    "        # Convnet for lemma encoding\n",
    "        self.conv = nn.Sequential(\n",
    "            nn.Conv1d(embedding_size, hidden_size, ngram, padding='same'),\n",
    "            nn.GELU(),\n",
    "            nn.Conv1d(hidden_size, hidden_size, ngram, padding='same')\n",
    "        )\n",
    "        \n",
    "        # Nonlinear projection of tag sequence representation\n",
    "        self.tag_project = nn.Sequential(\n",
    "            nn.Linear(embedding_size, hidden_size),\n",
    "            nn.GELU()\n",
    "        )\n",
    "        \n",
    "        # Classifier MLP\n",
    "        self.classifier = nn.Sequential(\n",
    "            nn.Linear(hidden_size, hidden_size),\n",
    "            nn.ReLU(),\n",
    "            nn.Linear(hidden_size, num_rules)\n",
    "        )\n",
    "        \n",
    "    @staticmethod\n",
    "    def get_mask(lengths: torch.Tensor):\n",
    "        \"\"\"Generate a binare mask of shape batch x timesteps with 1 meaning padding chars\"\"\"\n",
    "        with torch.no_grad():\n",
    "            max_length = torch.max(lengths).item()\n",
    "            mask = torch.arange(max_length)\n",
    "            mask = mask.unsqueeze(0).tile((len(lengths), 1))\n",
    "            mask = (mask >= lengths.unsqueeze(1))\n",
    "            return mask\n",
    "    \n",
    "    def forward(self, lemma: torch.Tensor, tags: torch.Tensor):\n",
    "        # Calculate length of each lemma in the minibatch\n",
    "        batch, length = lemma.shape\n",
    "        lengths = (lemma != 0).sum(dim=1).flatten().long()\n",
    "        \n",
    "        # Embed and project morphological tags\n",
    "        tag_embedded = self.tag_embedding(tags)\n",
    "        tag_encoded = self.tag_project(tag_embedded)\n",
    "        \n",
    "        # Embed and encode lemma\n",
    "        char_embedded = self.char_embedding(lemma)\n",
    "        char_embedded = char_embedded.transpose(1, 2)\n",
    "        char_encoded = self.conv(char_embedded)\n",
    "        char_encoded = char_encoded.transpose(1, 2)\n",
    "        \n",
    "        # Mask all padded chars in the lemma encoding before max-pooling\n",
    "        mask = self.get_mask(lengths)\n",
    "        mask = mask.unsqueeze(2).tile((1, 1, char_encoded.shape[2]))\n",
    "        char_encoded = torch.masked_fill(char_encoded, mask, -np.inf)\n",
    "        \n",
    "        # Get single vector encoding by feature-wise max pooling\n",
    "        char_encoded = torch.amax(char_encoded, dim=1)\n",
    "        \n",
    "        # Add lemma and tag encodings\n",
    "        y_pred = char_encoded + tag_encoded\n",
    "        # Predict rule\n",
    "        y_pred = self.classifier(y_pred)\n",
    "        \n",
    "        return y_pred"
   ]
  },
  {
   "cell_type": "markdown",
   "id": "a420a910",
   "metadata": {},
   "source": [
    "## 4. Define data indexing and the training loop"
   ]
  },
  {
   "cell_type": "code",
   "execution_count": 13,
   "id": "c63112be",
   "metadata": {},
   "outputs": [],
   "source": [
    "from torch.optim import SGD\n",
    "from torch.utils.data import DataLoader\n",
    "from torch.nn.utils import clip_grad_value_\n",
    "from torch.nn.utils.rnn import pad_sequence\n",
    "from torch.optim.lr_scheduler import OneCycleLR"
   ]
  },
  {
   "cell_type": "code",
   "execution_count": 14,
   "id": "6b6f1bf2",
   "metadata": {},
   "outputs": [],
   "source": [
    "def update_loss(old_loss, new_loss, gamma=0.95):\n",
    "    if old_loss is not None:\n",
    "        return gamma * old_loss + (1-gamma) * new_loss\n",
    "    else:\n",
    "        return new_loss"
   ]
  },
  {
   "cell_type": "code",
   "execution_count": 15,
   "id": "19f6cc95",
   "metadata": {},
   "outputs": [],
   "source": [
    "class RuleClassifierModel:\n",
    "    def __init__(self, embedding_size: int, hidden_size: int, ngram: int = 3, batch_size: int = 4,\n",
    "                 max_lr: float = 0.01, num_steps: int = 3000):\n",
    "        self.embedding_size = embedding_size\n",
    "        self.hidden_size = hidden_size\n",
    "        self.ngram = ngram\n",
    "        \n",
    "        self.batch_size = batch_size\n",
    "        self.num_steps = num_steps\n",
    "        self.max_lr = max_lr\n",
    "    \n",
    "    def init_classifier(self):\n",
    "        \"\"\"Setup rule classifier\"\"\"\n",
    "        self.model = RuleClassifierInflection(\n",
    "            len(self.char_vocabulary) + 1,\n",
    "            len(self.tag_vocabulary) + 1,\n",
    "            len(self.rule_vocabulary) + 1,\n",
    "            self.embedding_size,\n",
    "            self.hidden_size,\n",
    "            ngram = self.ngram\n",
    "        )\n",
    "        self.model.train()\n",
    "        \n",
    "        # Setup optimizer and loss function\n",
    "        self.optimizer = SGD(self.model.parameters(), lr=0.001)\n",
    "        self.criterion = nn.CrossEntropyLoss(ignore_index=0)\n",
    "    \n",
    "    def make_indexer(self, words, tags, rules):\n",
    "        self.pad = \"<PAD>\"\n",
    "        self.unk = \"<UNK>\"\n",
    "        self.specials = [self.pad, self.unk]\n",
    "        self.char_vocabulary = self.specials + list(sorted(set.union(*map(set, words))))\n",
    "        self.rule_vocabulary = self.specials + list(sorted(set(rules)))\n",
    "        self.tag_vocabulary = self.specials + list(sorted(set.union(*map(set, tags))))\n",
    "        \n",
    "        self.idx2char = dict(enumerate(self.char_vocabulary))\n",
    "        self.idx2rule = dict(enumerate(self.rule_vocabulary))\n",
    "        self.idx2tag = dict(enumerate(self.tag_vocabulary))\n",
    "        \n",
    "        self.char2idx = {char: idx for idx, char in self.idx2char.items()}\n",
    "        self.rule2idx = {rule: idx for idx, rule in self.idx2rule.items()}\n",
    "        self.tag2idx = {tag: idx for idx, tag in self.idx2tag.items()}\n",
    "    \n",
    "    def index_dataset(self, words, tags, rules=None):\n",
    "        indexed_words = [[self.char2idx.get(c, 1) for c in word] for word in words]\n",
    "        indexed_tags = [[self.tag2idx.get(subtag, 1) for subtag in tag] for tag in tags]\n",
    "        \n",
    "        if rules is not None:\n",
    "            indexed_rules = list(map(self.rule2idx.get, rules))\n",
    "            dataset = list(zip(indexed_words, indexed_tags, indexed_rules))\n",
    "        else:\n",
    "            dataset = list(zip(indexed_words, indexed_tags))\n",
    "            \n",
    "        return dataset\n",
    "    \n",
    "    @staticmethod\n",
    "    def collate_fn_train(batch):\n",
    "        words, tags, rules = zip(*batch)\n",
    "        words = [torch.LongTensor(word) for word in words]\n",
    "        words = pad_sequence(words, batch_first=True)\n",
    "    \n",
    "        tags = [torch.LongTensor(tag) for tag in tags]\n",
    "        tags = pad_sequence(tags, batch_first=True)\n",
    "    \n",
    "        rules = torch.LongTensor(rules).flatten()\n",
    "    \n",
    "        return words, tags, rules\n",
    "    \n",
    "    @staticmethod\n",
    "    def collate_fn_eval(batch):\n",
    "        words, tags = zip(*batch)\n",
    "        words = [torch.LongTensor(word) for word in words]\n",
    "        words = pad_sequence(words, batch_first=True)\n",
    "    \n",
    "        tags = [torch.LongTensor(tag) for tag in tags]\n",
    "        tags = pad_sequence(tags, batch_first=True)\n",
    "    \n",
    "        return words, tags\n",
    "    \n",
    "    def get_applicable_rules(self, word):\n",
    "        \"\"\"Find all prefix-suffix rules that apply to given lemma\"\"\"\n",
    "        applicable_idx = []\n",
    "        for rule, index in self.rule2idx.items():\n",
    "            prefix_lemma = rule[0][0]\n",
    "            suffix_lemma = rule[1][0]\n",
    "            \n",
    "            if (\n",
    "                word.startswith(prefix_lemma) and\n",
    "                word.endswith(suffix_lemma) and\n",
    "                len(prefix_lemma) + len(suffix_lemma) <= len(word)\n",
    "            ):\n",
    "                applicable_idx.append(index)\n",
    "        \n",
    "        return applicable_idx\n",
    "    \n",
    "    @staticmethod\n",
    "    def apply_rule(word, rule):\n",
    "        \"\"\"Apply rule to lemma\"\"\"\n",
    "        ((prefix_lemma, prefix_form), (suffix_lemma, suffix_form)) = rule\n",
    "        stem = word[len(prefix_lemma):len(word)-len(suffix_lemma)]\n",
    "        return prefix_form + stem + suffix_form\n",
    "    \n",
    "    def predict(self, words, tags):\n",
    "        tags = [tag.split(';') for tag in tags]\n",
    "        \n",
    "        dataset = self.index_dataset(words, tags)\n",
    "        dataset = DataLoader(dataset, batch_size = self.batch_size,\n",
    "                             collate_fn = self.collate_fn_eval, shuffle = False)\n",
    "        \n",
    "        predictions = []\n",
    "        prediction_scores = []\n",
    "        \n",
    "        for word, tag in tqdm(dataset):\n",
    "            with torch.no_grad():\n",
    "                y_pred = self.model(word, tag)\n",
    "            \n",
    "            y_pred = y_pred.detach().cpu().numpy()\n",
    "            prediction_scores.append(y_pred)\n",
    "        \n",
    "        prediction_scores = np.concatenate(prediction_scores, axis=0)\n",
    "        \n",
    "        for word, scores in zip(words, prediction_scores):\n",
    "            applicable_idx = self.get_applicable_rules(word)\n",
    "            \n",
    "            if len(applicable_idx) == 0:\n",
    "                predictions.append(word)\n",
    "\n",
    "            else:\n",
    "                applicable_scores = scores[applicable_idx]\n",
    "                best_score_idx = np.argmax(applicable_scores)\n",
    "                rule_idx = applicable_idx[best_score_idx]\n",
    "                rule = self.idx2rule[rule_idx]\n",
    "                predictions.append(self.apply_rule(word, rule))\n",
    "    \n",
    "        return predictions\n",
    "                \n",
    "    def fit(self, words, forms, tags):\n",
    "        tags = [tag.split(';') for tag in tags]\n",
    "        rules = [get_rule(str(lemma), str(form)) for lemma, form in zip(words, forms)]\n",
    "        \n",
    "        self.make_indexer(words, tags, rules)\n",
    "        self.init_classifier()\n",
    "        dataset = self.index_dataset(words, tags, rules)\n",
    "        dataset = DataLoader(dataset, batch_size = self.batch_size,\n",
    "                             collate_fn = self.collate_fn_train, shuffle = True)\n",
    "        \n",
    "        epochs = round(self.num_steps / len(dataset))\n",
    "        \n",
    "        scheduler = OneCycleLR(self.optimizer, max_lr = self.max_lr, epochs = epochs,\n",
    "                               steps_per_epoch = len(dataset))\n",
    "        \n",
    "        running_loss = None\n",
    "        pbar = tqdm(total = epochs * len(dataset))\n",
    "        \n",
    "        for epoch in range(epochs):\n",
    "            for batch in dataset:\n",
    "                self.optimizer.zero_grad()\n",
    "                \n",
    "                word, tag, rule = batch\n",
    "                y_pred = self.model(word, tag)\n",
    "                \n",
    "                loss = self.criterion(y_pred, rule)\n",
    "                \n",
    "                loss.backward()\n",
    "                clip_grad_value_(self.model.parameters(), 5.0)\n",
    "                self.optimizer.step()\n",
    "                scheduler.step()\n",
    "                \n",
    "                detached_loss = loss.detach().cpu().item()\n",
    "                running_loss = update_loss(running_loss, detached_loss)\n",
    "                \n",
    "                pbar.update(1)\n",
    "                pbar.set_postfix_str(f\"Loss: {detached_loss:.2f}, Running Loss: {running_loss:.4f}\")\n",
    "            \n",
    "            if running_loss < 0.001:\n",
    "                break"
   ]
  },
  {
   "cell_type": "code",
   "execution_count": 16,
   "id": "e2579a75",
   "metadata": {},
   "outputs": [],
   "source": [
    "from sklearn.metrics import accuracy_score\n",
    "\n",
    "def evaluate_language(code):\n",
    "    train_path = f\"part1/development_languages/{code}.train\"\n",
    "    train_data = pd.read_csv(train_path, sep='\\t', names=[\"lemma\", \"form\", \"tag\"])\n",
    "    train_data = train_data.dropna()\n",
    "\n",
    "    eval_path = f\"part1/development_languages/{code}.dev\"\n",
    "    eval_data = pd.read_csv(eval_path, sep='\\t', names=[\"lemma\", \"form\", \"tag\"])\n",
    "    eval_data = eval_data.dropna()\n",
    "    \n",
    "    train_lemmas = train_data[\"lemma\"].tolist()\n",
    "    train_forms = train_data[\"form\"].tolist()\n",
    "    train_tags = train_data[\"tag\"].tolist()\n",
    "\n",
    "    classifier = RuleClassifierModel(32, 256, batch_size=128, ngram=5, max_lr=0.1)\n",
    "    classifier.fit(train_lemmas, train_forms, train_tags)\n",
    "    \n",
    "    eval_lemmas = eval_data[\"lemma\"].tolist()\n",
    "    eval_forms = eval_data[\"form\"].tolist()\n",
    "    eval_tags = eval_data[\"tag\"].tolist()\n",
    "    \n",
    "    predicted_forms = classifier.predict(eval_lemmas, eval_tags)\n",
    "    \n",
    "    accuracy = accuracy_score(predicted_forms, eval_forms)\n",
    "    return accuracy"
   ]
  },
  {
   "cell_type": "markdown",
   "id": "5dff707f",
   "metadata": {},
   "source": [
    "Now we can train a model for every language and evaluate on the test set:"
   ]
  },
  {
   "cell_type": "code",
   "execution_count": 17,
   "id": "67647aa3",
   "metadata": {},
   "outputs": [],
   "source": [
    "results = []\n",
    "\n",
    "# for language_code in language_codes:\n",
    "#    print(f\"Current language is: {language_code}\")\n",
    "#    accuracy = evaluate_language(language_code)\n",
    "#    results.append([language_code, accuracy])\n",
    "#    print()\n",
    "\n",
    "# results = pd.DataFrame(results, columns=[\"Language\", \"Accuracy\"])\n",
    "# results.to_csv(\"results.csv\")"
   ]
  },
  {
   "cell_type": "code",
   "execution_count": 20,
   "id": "3ab240b4",
   "metadata": {},
   "outputs": [],
   "source": [
    "results = pd.read_csv('results.csv', index_col=0)"
   ]
  },
  {
   "cell_type": "code",
   "execution_count": 24,
   "id": "2da61046",
   "metadata": {},
   "outputs": [
    {
     "data": {
      "image/png": "[encoded data removed]",
      "text/plain": [
       "<Figure size 1152x288 with 1 Axes>"
      ]
     },
     "metadata": {
      "needs_background": "light"
     },
     "output_type": "display_data"
    }
   ],
   "source": [
    "results.sort_values('Accuracy', ascending=False, inplace=True)\n",
    "\n",
    "accuracies = results['Accuracy'].astype(np.float64)\n",
    "languages = results['Language']\n",
    "\n",
    "plt.figure(figsize=(16, 4))\n",
    "plt.bar(languages, accuracies)\n",
    "plt.show()"
   ]
  },
  {
   "cell_type": "markdown",
   "id": "2175eb62",
   "metadata": {},
   "source": [
    "We can see that the approach works quite well for some languages, but not so well for others."
   ]
  },
  {
   "cell_type": "code",
   "execution_count": null,
   "id": "b6ff4d38",
   "metadata": {},
   "outputs": [],
   "source": []
  }
 ],
 "metadata": {
  "kernelspec": {
   "display_name": "Python 3 (ipykernel)",
   "language": "python",
   "name": "python3"
  },
  "language_info": {
   "codemirror_mode": {
    "name": "ipython",
    "version": 3
   },
   "file_extension": ".py",
   "mimetype": "text/x-python",
   "name": "python",
   "nbconvert_exporter": "python",
   "pygments_lexer": "ipython3",
   "version": "3.9.7"
  }
 },
 "nbformat": 4,
 "nbformat_minor": 5
}
